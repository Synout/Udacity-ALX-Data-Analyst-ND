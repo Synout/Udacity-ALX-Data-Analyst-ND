{
 "cells": [
  {
   "cell_type": "markdown",
   "metadata": {},
   "source": [
    "## Report: act_report\n",
    "* Create a **250-word-minimum written report** called \"act_report.pdf\" or \"act_report.html\" that communicates the insights and displays the visualization(s) produced from your wrangled data. This is to be framed as an external document, like a blog post or magazine article, for example."
   ]
  },
  {
   "cell_type": "markdown",
   "metadata": {},
   "source": [
    "The analysis and visualization was performed in the `Analyzing and Visualizing Data` of the notebook. In this section, the insights were drawn from the data by formulating questions to carry out the analysis.\n",
    "\n",
    "The data was used in the analysis was from the `df_archive_master` which contained  the following columns:\n",
    "1. `tweet_id` : a string that is the unique id of the tweet\n",
    "2. `text` : the text of the tweet, from which the rating, name, and sometimes the stage of the dog information are extracted.\n",
    "3. `rating` : the rating of the tweet, from 0 to 5 (equivalent of rating 0/10 to 50/10)\n",
    "\n",
    "5. `stage` : the stage of the dog, youngest to oldest: `['pupper','puppo','doggo','floofer']`\n",
    "\n",
    "The questions were formulated as follows:\n",
    "\n",
    "1. Does the rating reflect higher like count?\n",
    "> twitter likes peaked for dog rates between `9/10` and `11/10`\n",
    "2. Does the dog stage affect the rating (younger dogs are rated higher than older dogs)?\n",
    "> the youngest stage (pupper) received most likes\n",
    "3. Which dog stage is more retweeted?\n",
    "> the youngest stage (pupper) was retweeted more often\n",
    "\n",
    "The visualization contained a pie chart that showed retweet_count by stage. The pie chart showed that 84.6% of the retweets were on the youngest stage (pupper), the next stage was (puppo) was strangely in the third place at only 2.1% along with the oldest stage (floofer). The second stage (doggo) was at 11.2%. The extreme disparity can be speculated due to the fact that the dog stages were not used with precision. Similarly, the rating was sometimes exaggerated (i.e. the dog named atticus had 1776/10, and 420/10 for another dog) in an attempt to draw a punchline or make a meme. The barchart comparison, however, showed that the dogs rated 9/10 and 11/10 were most liked."
   ]
  }
 ],
 "metadata": {
  "kernelspec": {
   "display_name": "Python 3.9.2 64-bit",
   "language": "python",
   "name": "python3"
  },
  "language_info": {
   "codemirror_mode": {
    "name": "ipython",
    "version": 3
   },
   "file_extension": ".py",
   "mimetype": "text/x-python",
   "name": "python",
   "nbconvert_exporter": "python",
   "pygments_lexer": "ipython3",
   "version": "3.9.2"
  },
  "vscode": {
   "interpreter": {
    "hash": "f3b9e1686df46fdfce02f6c590a94fdc24002e922c234178a058f010791e1c4e"
   }
  }
 },
 "nbformat": 4,
 "nbformat_minor": 2
}
